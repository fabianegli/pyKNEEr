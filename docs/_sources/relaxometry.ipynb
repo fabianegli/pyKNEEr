{
 "cells": [
  {
   "cell_type": "markdown",
   "metadata": {},
   "source": [
    "(relaxometry)=\n",
    "# Relaxometry"
   ]
  },
  {
   "cell_type": "markdown",
   "metadata": {},
   "source": [
    "*pyKNEEr* computes:  \n",
    "\n",
    "* Exponential or linear fitting [{ref}`1<Borthakur>`,{ref}`2<Li>`]. Images with shortest TE or TSL can be rigidly registered to the image with longest TE or TSL\n",
    "* $T_2$ maps from DESS acquisitions using Extended Phase Graph (EPG) modeling [{ref}`3<Sveinsson>`]"
   ]
  },
  {
   "cell_type": "markdown",
   "metadata": {},
   "source": [
    "---\n",
    "## Exponential or linear fitting\n",
    "\n",
    "\n",
    "### Input: Image folder list\n",
    "\n",
    "For the demo images, the input file is `image_list_relaxometry_fitting.txt`, which contains:\n",
    "\n",
    "     [1] ./preprocessed\n",
    "     [2] ./segmented\n",
    "     [3] 4\n",
    "     [4] i1 01_cubeQuant_01_orig.mha\n",
    "     [5] i2 01_cubeQuant_02_orig.mha\n",
    "     [6] i3 01_cubeQuant_03_orig.mha\n",
    "     [7] i4 01_cubeQuant_04_orig.mha\n",
    "     [8] bm 01_cubeQuant_01_prep_f.mha\n",
    "     [9] cm 01_cubeQuant_01_prep_fc.mha\n",
    "\n",
    "where:\n",
    "\n",
    "- Line 1: Preprocessed folder, containing the `*_orig.mha` images  \n",
    "- Line 2: Segmented folder, containing femur and cartilage masks  \n",
    "- Line 3: Number of images per acquisition  \n",
    "- Lines 4-7: Images of the acquisition  \n",
    "- Line 8: Name of femur mask  \n",
    "- Line 9: Name of femoral cartilage mask  \n",
    "    \n",
    "\n",
    "```{tip}\n",
    "When using **your own data**:  \n",
    "- Customize `image_list_relaxometry_fitting.txt` with your own image information\n",
    "```\n",
    "\n",
    "(execution_relax)=\n",
    "### Executing `relaxometry_fitting.ipynb`\n",
    "\n",
    "To calculate relaxometry maps:\n",
    "\n",
    "- {ref}`Launch <launch_jup>` Jupyter notebook\n",
    "- In *File Browser*, navigate to `relaxometry_fitting.ipynb`, open it, and:\n",
    "\n",
    "  - Customize the input variables:\n",
    "\n",
    "    - `method_flag` (1 for linear fitting, 0 for exponential fitting)\n",
    "    - `registration_flag` (1 to execute rigid registration, 0 otherwise)\n",
    "    - `n_of_cores` ({ref}`How do I choose the number of cores? <cores>`)\n",
    "    - `output_file_name`\n",
    "  - Follow the instructions in the notebook\n",
    "\n",
    "- {ref}`Save <save_jup>` your notebook at the end of the process\n",
    "\n",
    "\n",
    "(output_relax)=\n",
    "### Output: relaxometry maps\n",
    "\n",
    "The outputs are in the folder `relaxometry`. For each subject, the fitting maps can be:  \n",
    "- `*_orig_map_exp_aligned.mha` (e.g. `01_cubeQuant_01_orig_map_exp_aligned.mha`): when the acquisitions are rigidly aligned to the first and the fitting is exponential\n",
    "- `*_orig_map_lin_aligned.mha`: when the acquisitions are rigidly aligned to the first and the fitting is linear\n",
    "- `*_orig_map_exp.mha`: when the acquisitions are *not* aligned to the first and the fitting is exponential\n",
    "- `*_orig_map_lin.mha`: when the acquisitions are *not* aligned to the first and the fitting is linear\n",
    "\n",
    "Maps are computed only in the masked volumes to save computational time\n",
    "\n",
    "(visualization_relax)=\n",
    "\n",
    "### Visualization: 2D and 3D maps, graph, and table\n",
    "\n",
    "Relaxometry maps are visualized as:\n",
    "\n",
    "- *2D maps*: For each subject three slices of the first acquisition are overlapped by the relaxation time map\n",
    "- *3D maps*: Interactive visualization where only one map at the time can be visualized\n",
    "- *Graph*: Dots represent the average relaxation time per image and bars represents the standard deviation\n",
    "- *Table*: Numerical values of average and standard deviation of relaxation times are displayed in a table, also saved as `.csv` file for subsequent analysis\n",
    "\n",
    "![](images/relaxometry.png)"
   ]
  },
  {
   "cell_type": "markdown",
   "metadata": {},
   "source": [
    "---"
   ]
  },
  {
   "cell_type": "markdown",
   "metadata": {},
   "source": [
    "## EPG modeling\n",
    "\n",
    "### Input: Image folder list\n",
    "\n",
    "For the demo images, the input file is `image_list_relaxometry_EPG.txt`, which contains:\n",
    "\n",
    "     [1] ./preprocessed\n",
    "     [2] ./segmented\n",
    "     [3] i1 01_DESS_01_orig.mha\n",
    "     [4] i2 01_DESS_02_orig.mha\n",
    "     [5] cm 01_DESS_01_prep_fc.mha\n",
    "\n",
    "where:\n",
    "\n",
    "- Line 1: Preprocessed folder, containing the `*_orig.mha` images  \n",
    "- Line 2: Segmented folder, containing cartilage masks  \n",
    "- Lines 3-4: Images of the acquisition  \n",
    "- Line 5: Name of femoral cartilage mask  \n",
    "\n",
    "```{note}\n",
    "When using **your own data**:\n",
    "- Customize `image_list_relaxometry_EPG.txt` with your own image information\n",
    "```\n",
    "\n",
    "### Execution, Output, and Visualization\n",
    "\n",
    "Execution:\n",
    "\n",
    "- To calculate the map, apply the {ref}`instructions <execution_relax>` above to the notebook `relaxometry_EPG.ipynb`. In the notebook, customize the variables:\n",
    "  - ``number_of_cores`` ({ref}`How do I choose the number of cores? <cores>`)\n",
    "  - ``output_file_name``\n",
    "\n",
    "Output and visualization:\n",
    "\n",
    "- Follow the instructions above to know the {ref}`output <output_relax>` and how to {ref}`visualize <visualization_relax>` the results"
   ]
  },
  {
   "cell_type": "markdown",
   "metadata": {},
   "source": [
    "---\n",
    "## References\n",
    "\n",
    "(Borthakur)=\n",
    "[1] Borthakur A., Wheaton A.J., Gougoutas A.J., Akella S.V., Regatte R.R., Charagundla S.R., Reddy R.\n",
    "<a href=\"https://www.ncbi.nlm.nih.gov/pubmed/15065163\" target=\"_blank\">\n",
    "<i>In vivo measurement of T1rho dispersion in the human brain at 1.5 tesla.</i></a>\n",
    "J Magn Reson Imaging. Apr;19(4):403-9. 2004. <br>\n",
    "\n",
    "(Li)=\n",
    "[2] Li X., Benjamin Ma C., Link T.M., Castillo D.D., Blumenkrantz G., Lozano J., Carballido-Gamio J., Ries M., Majumdar S.\n",
    "<a href=\"https://www.ncbi.nlm.nih.gov/pubmed/17307365\" target=\"_blank\">\n",
    "<i>In vivo T1ρ and T2 mapping of articular cartilage in osteoarthritis of the knee using 3 T MRI.</i></a>\n",
    "Osteoarthritis Cartilage. Jul;15(7):789-97. 2007. <br>\n",
    "\n",
    "(Sveinsson)=\n",
    "[3] Sveinsson B, Chaudhari AS, Gold GE, Hargreaves BA.\n",
    "<a href=\"https://www.ncbi.nlm.nih.gov/pubmed/28017730\" target=\"_blank\">\n",
    "<i>A simple analytic method for estimating T<sub>2</sub> in the knee from DESS.</i></a>\n",
    "Magn Reson Imaging. May;38:63-70. 2017. <br>"
   ]
  }
 ],
 "metadata": {
  "kernelspec": {
   "display_name": "Python 3",
   "language": "python",
   "name": "python3"
  },
  "language_info": {
   "codemirror_mode": {
    "name": "ipython",
    "version": 3
   },
   "file_extension": ".py",
   "mimetype": "text/x-python",
   "name": "python",
   "nbconvert_exporter": "python",
   "pygments_lexer": "ipython3",
   "version": "3.7.6"
  },
  "widgets": {
   "application/vnd.jupyter.widget-state+json": {
    "state": {},
    "version_major": 2,
    "version_minor": 0
   }
  }
 },
 "nbformat": 4,
 "nbformat_minor": 4
}

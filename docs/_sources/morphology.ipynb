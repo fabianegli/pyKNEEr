{
 "cells": [
  {
   "cell_type": "markdown",
   "metadata": {},
   "source": [
    "(morphology)=\n",
    "# Morphology"
   ]
  },
  {
   "cell_type": "markdown",
   "metadata": {},
   "source": [
    "*pyKNEEr* computes two quantitative metrics to characterize femoral cartilage morphology:\n",
    "\n",
    "- **Thickness**, calculated in two steps:\n",
    "\n",
    "  - Separation of subcondral surface and articular surface of the cartilage\n",
    "  - Calculation of the distance between the two surfaces using a **nearest neighbor** method\n",
    "\n",
    "- **Volume**, calculated as the volume of the cartilage mask multiplied by the voxel volume\n",
    "\n",
    "```{note}\n",
    "You can calculate cartilage thickness and volume **independently** although their computations are implemented in the same notebook\n",
    "```"
   ]
  },
  {
   "cell_type": "markdown",
   "metadata": {},
   "source": [
    "---"
   ]
  },
  {
   "cell_type": "markdown",
   "metadata": {},
   "source": [
    "## Input: Image folder list\n",
    "\n",
    "For the demo images, the input file is `image_list_morphology.txt`, which contains:\n",
    "\n",
    "    [1] ./segmented\n",
    "    [2] 01_DESS_01_prep_fc.mha\n",
    "\n",
    "where:\n",
    "- Line 1: Input folder, containing the cartilage masks\n",
    "- Line 2: Name of cartilage mask\n",
    "\n",
    "```{tip}\n",
    "When using **your own data**:  \n",
    "- Customize `image_list_morphology.txt` with path and names of your own binary masks"
   ]
  },
  {
   "cell_type": "markdown",
   "metadata": {},
   "source": [
    "---"
   ]
  },
  {
   "cell_type": "markdown",
   "metadata": {},
   "source": [
    "## Executing `morphology.ipynb`\n",
    "\n",
    "To compute femoral cartilage morphology:\n",
    "\n",
    "- {ref}`Launch <launch_jup>` Jupyter notebook\n",
    "- In *File Browser*, navigate to `morphology.ipynb`, open it, and:\n",
    "\n",
    "  - Customize the input variables :\n",
    "\n",
    "    - `n_of_cores` ({ref}`How do I choose the number of cores? <cores>`)\n",
    "    - `output_file_name_thickness`\n",
    "    - `output_file_name_volume`\n",
    "\n",
    "  - Follow the instructions in the notebook\n",
    "  ```{note} Cartilage thickness and volume are **calculated independently**, so it is not necessary to calculate thickness before calculating the volume`\n",
    "\n",
    "- {ref}`Save <save_jup>` your notebook at the end of the process"
   ]
  },
  {
   "cell_type": "markdown",
   "metadata": {},
   "source": [
    "---"
   ]
  },
  {
   "cell_type": "markdown",
   "metadata": {},
   "source": [
    "## Output: Surfaces, thicknesses, and volumes\n",
    "\n",
    "The outputs are in the folder `.morphology`. For each subject, the outputs are:\n",
    "\n",
    "- `*_boneCart.txt`: Subchondral surface of the cartilage as a points cloud.\n",
    "  Each row corresponds to a point, and the three columns correspond to the x, y, and z coordinates\n",
    "- `*_artiCart.txt`: Articular surface of the cartilage as a points cloud\n",
    "- `thickness_ID.txt`: List of thicknesses in mm associated to the surface points\n",
    "\n",
    "  `ID` is the algorithm chosen to calculate cartilage thickness:\n",
    "\n",
    "  1. Nearest neighbor calculated on the femur surface\n",
    "  2. Nearest neighbor calculated on the articular surface\n",
    "\n",
    "- `volume.txt`: Cartilage volume in $mm^3$"
   ]
  },
  {
   "cell_type": "markdown",
   "metadata": {},
   "source": [
    "---"
   ]
  },
  {
   "cell_type": "markdown",
   "metadata": {},
   "source": [
    "## Visualization: Map, graph, and table\n",
    "\n",
    "- Cartilage **thickness** is visualized as:  \n",
    "  - *Map*: Thickness values are a colormap on the cartilage surface, flattened after interpolation to a cylinder {ref}`[1]<Monu>`. The same flattening algorithm is used to visualize subcondral and articular cartilage after splitting  \n",
    "  - *Graph*: Dots represent the average value of cartilage thickness per image and bars represent the standard deviation  \n",
    "  - *Table*: Thickness average and standard deviation, also saved as `.csv` file for subsequent analysis  \n",
    "\n",
    "![](images/cartilageThickness.png)\n",
    "\n",
    "\n",
    "- Cartilage **volume** is visualized as:  \n",
    "  - *Graph*: Dots represent volume per image  \n",
    "  - *Table*: Volume values, also saved as `.csv` file for subsequent analysis  \n",
    "\n",
    "\n",
    "![](images/cartilageVolume.png)\n",
    " "
   ]
  },
  {
   "cell_type": "markdown",
   "metadata": {},
   "source": [
    "---"
   ]
  },
  {
   "cell_type": "markdown",
   "metadata": {},
   "source": [
    "## References\n",
    "\n",
    "(Monu)=\n",
    "[1] Monu U.D., Jordan C.D., Samuelson B.L., Hargreaves B.A., Gold G.E., McWalter E.J. <a href=\"https://www.ncbi.nlm.nih.gov/pubmed/27720806\" target=\"_blank\"><i>Cluster analysis of quantitative MRI T2 and T1ρ relaxation times of cartilage identifies differences between healthy and ACL-injured individuals at 3T.</i></a> Osteoarthritis Cartilage. Apr;25(4):513-520. 2017."
   ]
  }
 ],
 "metadata": {
  "kernelspec": {
   "display_name": "Python 3",
   "language": "python",
   "name": "python3"
  },
  "language_info": {
   "codemirror_mode": {
    "name": "ipython",
    "version": 3
   },
   "file_extension": ".py",
   "mimetype": "text/x-python",
   "name": "python",
   "nbconvert_exporter": "python",
   "pygments_lexer": "ipython3",
   "version": "3.7.6"
  },
  "widgets": {
   "application/vnd.jupyter.widget-state+json": {
    "state": {},
    "version_major": 2,
    "version_minor": 0
   }
  }
 },
 "nbformat": 4,
 "nbformat_minor": 4
}

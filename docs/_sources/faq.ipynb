{
 "cells": [
  {
   "cell_type": "markdown",
   "metadata": {},
   "source": [
    "# FAQ"
   ]
  },
  {
   "cell_type": "markdown",
   "metadata": {},
   "source": [
    "{ref}`Why the name pyKNEEr? <name>`    \n",
    "{ref}`What terminal? <terminal>`  \n",
    "{ref}`How do I set the environmental variables for elastix? <elastix>`    \n",
    "{ref}`How do I choose the number of cores? <cores>`  \n",
    "{ref}`How do I determine knee laterality? <faqLaterality>`   \n",
    "{ref}`What is Jupyter notebook and how does it work? <jup>`\n",
    "{ref}`How do I launch Jupyter notebook? <launch_jup>`  \n",
    "{ref}`How do I run a Jupyter notebook? <run_jup>`  \n",
    "{ref}`How do I save a Jupyter notebook? <save_jup>`  \n",
    "{ref}`What is a virtual environment? <virtualenv_what>`  \n",
    "{ref}`How do I create a virtual environment? <virtualenv_how>`  \n",
    "{ref}`How do I update pyKNEEr? <update>`  \n",
    "{ref}`What is ITK-SNAP? <itksnap>`  \n",
    "{ref}`How do I compare 3D images in ITK-SNAP? <itksnapCompare>`  \n",
    "{ref}`How do I visualize a segmentation in ITK-SNAP? <itksnapMask>`  \n",
    "{ref}`How do run subsequent analysis? <analysis>`  \n",
    "{ref}`Issues? <issues>`  \n",
    "{ref}`How do I cite pyKNEEr? <citation>`  "
   ]
  },
  {
   "cell_type": "markdown",
   "metadata": {},
   "source": [
    "---"
   ]
  },
  {
   "cell_type": "markdown",
   "metadata": {},
   "source": [
    "(name)=\n",
    "## Why the name pyKNEEr?\n",
    "\n",
    "  ``py`` is for python, ``KNEE`` is for femoral knee cartilage, and ``r`` is for reproducibility  \n",
    "  It is pronounced like *pioneer* without the *o* "
   ]
  },
  {
   "cell_type": "markdown",
   "metadata": {},
   "source": [
    "---"
   ]
  },
  {
   "cell_type": "markdown",
   "metadata": {},
   "source": [
    "(terminal)=\n",
    "## What terminal?\n",
    "\n",
    "  **MacOS**: Open the terminal: Applications $\\rightarrow$ Utilities $\\rightarrow$ Terminal  \n",
    "  **Windows**: Open the Anaconda prompt: Start Menu $\\rightarrow$ Anaconda $\\rightarrow$ Anaconda Prompt  \n"
   ]
  },
  {
   "cell_type": "markdown",
   "metadata": {},
   "source": [
    "---"
   ]
  },
  {
   "cell_type": "markdown",
   "metadata": {},
   "source": [
    "(elastix)=\n",
    "## How do I set the environmental variables for elastix?\n",
    "\n",
    "  The instructions below are modified from the *elastix* <a href=\"https://blog.yuwu.me/wp-content/uploads/2017/10/elastix_manual_v4.8.pdf\" target=\"_blank\">manual</a>  \n",
    "  - Look for the location of *pyKNEEr* on your computer. Open your {ref}`terminal <terminal>` and type:\n",
    "   \n",
    "        pip show pykneer     \n",
    "\n",
    "  - Look for the path in *Location*. In the following, we will call this path `<location>` (e.g. `<location>` = `/anaconda3/lib/python3.7/site-packages`)\n",
    "\n",
    "**Linux**:      \n",
    "- *elastix* is in the folder `<location>/Linux/`      \n",
    "- To add *elastix* to the environmental variables of your computer, go to {ref}`terminal <terminal>` and type:\n",
    "\n",
    "      cd #go to your home directory  \n",
    "      nano .bash_profile #create (or open if already existing) your profile file  \n",
    "      export PATH=<location>/Linux/:$PATH #substitute <location> with your `<location>/Linux/` \n",
    "      export LD_LIBRARY_PATH=<location>/Linux/:$LD_LIBRARY_PATH #substitute <location> with your <location>/Linux/  \n",
    "\n",
    "  Make sure you substitute <location> with your ``<location>/Linux/`` in both commands. These two lines add the *elastix* path to the environmental variables of your computer\n",
    "- Save changes and close file by pressing:\n",
    "  - `ctrl` + `o`\n",
    "  - `enter`\n",
    "  - `ctrl` + `x`\n",
    "- Activate changes by typing:\n",
    "\n",
    "         source .bash_profile \n",
    "\n",
    "**Windows**:\n",
    "*elastix* is in the folder ``<location>/Windows/``    \n",
    "To add *elastix* to the environmental variables of your computer:    \n",
    "- Go to the control panel  \n",
    "- Go to `System`  \n",
    "- Go to `Advanced system settings`  \n",
    "- Click `Environmental variables`  \n",
    "- Add the folder `<location>/Windows/` (using **your** own location ) to the variable `path`  "
   ]
  },
  {
   "cell_type": "markdown",
   "metadata": {},
   "source": [
    "---"
   ]
  },
  {
   "cell_type": "markdown",
   "metadata": {},
   "source": [
    "(cores)=\n",
    "\n",
    "## How do I choose the number of cores?\n",
    "\n",
    "  **MacOS**: Open your {ref}`terminal <terminal>` and type:\n",
    "\n",
    "        sysctl hw.physicalcpu hw.logicalcpu\n",
    "\n",
    "   You will get something like this:\n",
    "\n",
    "    hw.physicalcpu: 2\n",
    "    hw.logicalcpu: 4  \n",
    "\n",
    "   In this example, this Mac has 2 physical (harware) cores and 4 logical (virtual) cores - for every physical core there are two logical cores.  \n",
    "    It is recommended not to use all your cores, so you can keep using your laptop while *pyKNEEr* is computing. For example, if your Mac has 4 logical core, you can use 3 for *pyKNEEr*  \n",
    "\n",
    "  **Windows**:\n",
    "    coming soon!"
   ]
  },
  {
   "cell_type": "markdown",
   "metadata": {},
   "source": [
    "---"
   ]
  },
  {
   "cell_type": "markdown",
   "metadata": {},
   "source": [
    "(faqLaterality)=\n",
    "\n",
    "## How do I determine knee laterality?\n",
    "\n",
    "A practical way to determine knee laterality in *pyKNEEr* coordinate system is by considering the position of the fibula next to the tibia:  \n",
    "- If the fibula is on the right side of the tibia, the knee laterality is *left*  \n",
    "- If the fibula is on the left side of the tibia, the knee laterality is *right*  \n",
    "\n",
    "![](images/laterality.png)"
   ]
  },
  {
   "cell_type": "markdown",
   "metadata": {},
   "source": [
    "(jup)=\n",
    "\n",
    "## What is Jupyter notebook and how does it work?  \n",
    "\n",
    "Jupyter notebook is a web application that allows you to create documents that include narrative, code, and visualizations. For a quick introduction watch [these videos](https://www.youtube.com/playlist?list=PLj8QFvBykB7fGEH274TlqhToqGd_Qxt1H)\n",
    "\n"
   ]
  },
  {
   "cell_type": "markdown",
   "metadata": {},
   "source": [
    "---"
   ]
  },
  {
   "cell_type": "markdown",
   "metadata": {},
   "source": [
    "(launch_jup)=\n",
    "\n",
    "## How do I launch Jupyter notebook?\n",
    "\n",
    "Open Anaconda and click `Launch` under the JupyterLab icon"
   ]
  },
  {
   "cell_type": "markdown",
   "metadata": {},
   "source": [
    "---"
   ]
  },
  {
   "cell_type": "markdown",
   "metadata": {},
   "source": [
    "(run_jup)=\n",
    "\n",
    "## How do I run a Jupyter notebook?\n",
    "\n",
    "Click in the cell, and then:\n",
    "- **MacOS**: press ``return`` + ``shift``\n",
    "- **Windows**: press ``enter`` + ``shift``"
   ]
  },
  {
   "cell_type": "markdown",
   "metadata": {},
   "source": [
    "---"
   ]
  },
  {
   "cell_type": "markdown",
   "metadata": {},
   "source": [
    "(save_jup)=\n",
    "\n",
    "## How do I save a Jupyter notebook?  \n",
    "\n",
    "You can save the notebook as:\n",
    "- `.ipynb`: File $\\rightarrow$ Save Notebook As  \n",
    "  Text, cells, and output will be editable\n",
    "- `.html`, `.pdf`, etc.: File $\\rightarrow$ Export Notebook As  \n",
    "  Text, cells, and outputs will *not* be editable"
   ]
  },
  {
   "cell_type": "markdown",
   "metadata": {},
   "source": [
    "---"
   ]
  },
  {
   "cell_type": "markdown",
   "metadata": {},
   "source": [
    "(virtualenv_what)=\n",
    "\n",
    "## What is a virtual environment?\n",
    "\n",
    "A virtual environment is like an uncontaminated island on your computer that contains the code of your current project. \n",
    "It allows you to avoid conflicts among projects that could be due to different versions of packages and dependences, and thus implies less issues when running code.\n",
    "Creating a virtual environment is not compulsory, but highly recommended"
   ]
  },
  {
   "cell_type": "markdown",
   "metadata": {},
   "source": [
    "---"
   ]
  },
  {
   "cell_type": "markdown",
   "metadata": {},
   "source": [
    "(virtualenv_how)=\n",
    "\n",
    "## How do I create a virtual environment?\n",
    "\n",
    "**MacOS**: Open the terminal: Applications $\\rightarrow$ Utilities $\\rightarrow$ Terminal  \n",
    "**Windows**: Open the Anaconda prompt: Start Menu $\\rightarrow$ Anaconda $\\rightarrow$ Anaconda Prompt\n",
    "\n",
    "Type the following commands:\n",
    "\n",
    "\n",
    "      # install the package to create virtual environments\n",
    "        conda install virtualenv\n",
    "\n",
    "      # go to your chosen folder\n",
    "      # MacOS:\n",
    "        cd /Users/.../yourFolder\n",
    "      # Windows:\n",
    "        cd C:\\...\\yourFolder\n",
    "\n",
    "      # create the virtual environment\n",
    "        virtualenv yourFolder\n",
    "\n",
    "      # activate the virtual environment\n",
    "      # MacOS:\n",
    "        source yourFolder/bin/activate\n",
    "      # Windows\n",
    "        - go to the folder: C:\\...\\yourFolder\\\n",
    "        - double-click on activate.bat"
   ]
  },
  {
   "cell_type": "markdown",
   "metadata": {},
   "source": [
    "---"
   ]
  },
  {
   "cell_type": "markdown",
   "metadata": {},
   "source": [
    "(update)=\n",
    "\n",
    "## How do I update pyKNEEr?\n",
    "\n",
    "To update to the latest version of *pyKNEEr*, go to {ref}`terminal <terminal>` and type:\n",
    "\n",
    "      pip install pykneer --upgrade\n",
    "\n",
    "\n",
    "To check the new version number, type:\n",
    "\n",
    "      pip show pykneer\n"
   ]
  },
  {
   "cell_type": "markdown",
   "metadata": {},
   "source": [
    "---"
   ]
  },
  {
   "cell_type": "markdown",
   "metadata": {},
   "source": [
    "(itksnap)=\n",
    "\n",
    "## What is ITK-SNAP?\n",
    "\n",
    "ITK-SNAP is a software for image processing that has an excellent interface to visualize segmented images. All the images and masks created in this framework are in metafile format (``.mha``), and they can be easily visualized with ITK-SNAP.\n",
    "You can download the latest release <a href=\"http://www.itksnap.org/pmwiki/pmwiki.php?n=Downloads.SNAP3\" target=\"_blank\">here</a>  "
   ]
  },
  {
   "cell_type": "markdown",
   "metadata": {},
   "source": [
    "---"
   ]
  },
  {
   "cell_type": "markdown",
   "metadata": {},
   "source": [
    "(itksnapCompare)=\n",
    "\n",
    "## How do I compare 3D images in ITK-SNAP?\n",
    "\n",
    "Open ITK-SNAP and load:  \n",
    "- The original image: Go to `File` $\\rightarrow$ `Open Main Image`, and select your image `*_orig.mha` (you can also drag and drop the image)  \n",
    "- The preprocessed imaged: Go to `File` $`\\rightarrow$ `Add another image`, and select the corresponding image `*_prep.mha` (you can also drag and drop the image, and click `Load as additional image`)  \n",
    "\n",
    "To visualize the two images next to each other, toggle to tiled layout by clicking the middle icon in the top-right side of the viewer."
   ]
  },
  {
   "cell_type": "markdown",
   "metadata": {},
   "source": [
    "---"
   ]
  },
  {
   "cell_type": "markdown",
   "metadata": {},
   "source": [
    "(itksnapMask)=\n",
    "\n",
    "## How do I visualize a segmentation in ITK-SNAP?\n",
    "\n",
    "Open ITK-SNAP and load:  \n",
    "- The original image: Go to ``File`` $\\rightarrow$ ``Open Main Image`` and select ``*_prep.mha`` (you can also drag and drop the image)\n",
    "- The cartilage mask: Go to ``Segmentation`` $\\rightarrow$ ``Open Segmentation`` and select ``*_prep_fc.mha`` (you can also drag and drop the image, and click ``Load as segmentation``)."
   ]
  },
  {
   "cell_type": "markdown",
   "metadata": {},
   "source": [
    "---"
   ]
  },
  {
   "cell_type": "markdown",
   "metadata": {},
   "source": [
    "(analysis)=\n",
    "\n",
    "## How do run subsequent analysis?\n",
    "\n",
    "You can find examples of subsequent analysis in our {ref}`paper <citation>` (see Fig. 4)"
   ]
  },
  {
   "cell_type": "markdown",
   "metadata": {},
   "source": [
    "---"
   ]
  },
  {
   "cell_type": "markdown",
   "metadata": {},
   "source": [
    "(issues)=\n",
    "\n",
    "## Issues?\n",
    "\n",
    "Ask your questions  <a href=\"https://github.com/sbonaretti/pyKNEEr/issues\" target=\"_blank\">here</a>"
   ]
  },
  {
   "cell_type": "markdown",
   "metadata": {},
   "source": [
    "---"
   ]
  },
  {
   "cell_type": "markdown",
   "metadata": {},
   "source": [
    "(citation)=\n",
    "\n",
    "## How do I cite pyKNEEr?\n",
    "\n",
    "You can cite paper, code, and data:\n",
    "\n",
    "- *Paper* : Bonaretti S., Gold G., Beaupre G. <a href=\"https://doi.org/10.1371/journal.pone.0226501\" target=\"_blank\"><i>pyKNEEr: An image analysis workflow for open and reproducible research on femoral knee cartilage</i></a>. PLOS ONE 15(1): e0226501\n",
    "- *Code* : Bonaretti S. *pyKNEEr*. Zenodo. 2019. 10.5281/zenodo.2574171 <a href=\"https://doi.org/10.5281/zenodo.2574171\"><img src=\"https://zenodo.org/badge/DOI/10.5281/zenodo.2574171.svg\" alt=\"DOI\"></a>\n",
    "- *Data*: Dataset in (Bonaretti S. et al. 2019). Zenodo. 10.5281/zenodo.2583184 <a href=\"https://doi.org/10.5281/zenodo.2583184\"><img src=\"https://zenodo.org/badge/DOI/10.5281/zenodo.2583184.svg\" alt=\"DOI\"></a>"
   ]
  },
  {
   "cell_type": "code",
   "execution_count": null,
   "metadata": {},
   "outputs": [],
   "source": []
  }
 ],
 "metadata": {
  "kernelspec": {
   "display_name": "Python 3",
   "language": "python",
   "name": "python3"
  },
  "language_info": {
   "codemirror_mode": {
    "name": "ipython",
    "version": 3
   },
   "file_extension": ".py",
   "mimetype": "text/x-python",
   "name": "python",
   "nbconvert_exporter": "python",
   "pygments_lexer": "ipython3",
   "version": "3.7.6"
  },
  "widgets": {
   "application/vnd.jupyter.widget-state+json": {
    "state": {},
    "version_major": 2,
    "version_minor": 0
   }
  }
 },
 "nbformat": 4,
 "nbformat_minor": 4
}

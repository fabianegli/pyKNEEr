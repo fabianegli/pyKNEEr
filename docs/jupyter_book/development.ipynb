{
 "cells": [
  {
   "cell_type": "markdown",
   "metadata": {},
   "source": [
    "(development)=\n",
    "# Development"
   ]
  },
  {
   "cell_type": "markdown",
   "metadata": {},
   "source": [
    "The source code is on  <a href=\"https://github.com/sbonaretti/pyKNEEr/tree/master/pykneer\" target=\"_blank\">GitHub</a>"
   ]
  },
  {
   "cell_type": "markdown",
   "metadata": {},
   "source": [
    "---\n",
    "## Code structure\n",
    "*pyKNEEr* is written in a modular way to favor modifications and extensions. There are three levels of files associated with each step of the workflow:\n",
    "\n",
    "1. Jupyter notebooks (``.ipynb``) representing both a user-interface and a record of the method and results obtained, to be attached to publications\n",
    "2. Python scripts for notebooks (``for_nb.py``) containing functions called by the notebook and used to process images and visualize outputs\n",
    "3. Basic python scripts (``.py``) containing core functions and classes\n",
    "\n",
    "\n",
    "![](images/codeScheme.png)\n",
    "   \n",
    "\n",
    "The figure above shows the code structure. For example, to compute morphology of femoral knee cartilage, the scheme is:\n",
    "1. `morphology.ipynb`: Jupyter notebook used to run computations and visualize results. It uses functions from:\n",
    "2. `morphology_for_nb.py`: python module that contains functions to calculate knee cartilage morphology and visualize results. It uses functions from:\n",
    "3. `morphology_functions.py`: python module that contains the actual algorithms to compute cartilage thickness and volume\n",
    "\n",
    "\n",
    "### Additional packages\n",
    "\n",
    "\n",
    "*pyKNEEr* uses:\n",
    "\n",
    "- <a href=\"https://github.com/SuperElastix/elastix/wiki\" target=\"_blank\">Elastix 4.8</a> for single-atlas segmentation\n",
    "- <a href=\"https://github.com/xingjiepan/cylinder_fitting\" target=\"_blank\">Cylinder fitting</a> to flatten cartilage for visualization"
   ]
  },
  {
   "cell_type": "markdown",
   "metadata": {},
   "source": [
    "---\n",
    "## Variable names\n",
    "When reading the `.txt` file at the beginning of each notebook, *pyKNEEr* creates a dictionary (i.e. a struct) called `image_data`.\n",
    "In `image_data`, each cell corresponds to an image and contains an array of strings representing paths, input and output file names, and other information that will be used throughout the whole notebook.\n",
    "\n",
    "For example, for the {ref}`demo <demo>`  images the content of the first cell of `image_data` in  the `preprocessing.ipynb` notebook can be printed out using the commands:\n",
    "\n",
    "       image_data = io.load_image_data_preprocessing(input_file_name)\n",
    "       image_data[0] # 0 is the ID of the first image\n",
    "\n",
    "\n",
    "obtaining the following output:\n",
    "\n",
    "| **Folders**           | **Example**                        |\n",
    "|-----------------------|------------------------------------|\n",
    "|original_folder        | - /.original                       |\n",
    "|preprocessed_folder    | /.preprocessed/                    |\n",
    "|image_folder_file_name | 01/DESS/01                         |\n",
    "|**File Names**         | **Example**                        |\n",
    "|original_file_name     | ./preprocessed/01_DESS_01_orig.mha | \n",
    "|preprocessed_file_name | ./preprocessed/01_DESS_01_prep.mha |\n",
    "|info_file_name         | ./preprocessed/01_DESS_01_orig.txt |\n",
    "|temp_file_name         |./preprocessed/01_DESS_01_temp.mha  |\n",
    "|**Other Information**  | **Example**                        | \n",
    "|image_name_root        | subject1_DESS                      |\n",
    "|laterality             |right                               |"
   ]
  },
  {
   "cell_type": "markdown",
   "metadata": {},
   "source": [
    "---\n",
    "## Changelog\n",
    "\n",
    "Changes in <i>pyKNEEr</i> are described in the <a href=\"https://github.com/sbonaretti/pyKNEEr/blob/master/README.md\" target=\"_blank\">readMe</a> file of the GitHub repository"
   ]
  },
  {
   "cell_type": "markdown",
   "metadata": {},
   "source": [
    "---\n",
    "## Contributing\n",
    "\n",
    "Thanks so much for willing to contribute!\n",
    "\n",
    "The easiest way is to fork the repository from <a href=\"https://github.com/sbonaretti/pyKNEEr\" target=\"_blank\">GitHub</a> and then send a pull request.\n",
    "\n",
    "If you want to coordinate or need any information, do not hesitate to write me at serena dot bonaretti dot research at gmail dot com"
   ]
  }
 ],
 "metadata": {
  "kernelspec": {
   "display_name": "Python 3",
   "language": "python",
   "name": "python3"
  },
  "language_info": {
   "codemirror_mode": {
    "name": "ipython",
    "version": 3
   },
   "file_extension": ".py",
   "mimetype": "text/x-python",
   "name": "python",
   "nbconvert_exporter": "python",
   "pygments_lexer": "ipython3",
   "version": "3.7.6"
  },
  "widgets": {
   "application/vnd.jupyter.widget-state+json": {
    "state": {},
    "version_major": 2,
    "version_minor": 0
   }
  }
 },
 "nbformat": 4,
 "nbformat_minor": 4
}

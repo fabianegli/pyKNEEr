{
 "cells": [
  {
   "cell_type": "markdown",
   "metadata": {},
   "source": [
    "# pyKNEEr"
   ]
  },
  {
   "cell_type": "markdown",
   "metadata": {},
   "source": [
    "*pyKNEEr* is an image analysis workflow for **open** and **reproducible** research on **femoral knee cartilage**\n",
    "\n",
    "It is implemented in <a href=\"https://www.python.org/\" target=\"_blank\">python</a> with <a href=\"http://jupyter.org/\" target=\"_blank\">Jupyter notebooks</a>\n"
   ]
  },
  {
   "cell_type": "markdown",
   "metadata": {},
   "source": [
    "![](images/index.png) "
   ]
  },
  {
   "cell_type": "markdown",
   "metadata": {},
   "source": [
    "--- \n",
    "## Watch the video to know more about **pyKNEEr**\n",
    "\n",
    "<div style=\"position: relative; padding-bottom: 56.25%; height: 0; overflow: hidden; max-width: 100%; height: auto;\">\n",
    "       <iframe src=\"https://www.youtube.com/embed/7WPf5KFtYi8\" frameborder=\"0\" allowfullscreen style=\"position: absolute; top: 0; left: 0; width: 100%; height: 100%;\"></iframe>\n",
    "   </div>"
   ]
  },
  {
   "cell_type": "markdown",
   "metadata": {},
   "source": [
    "--- \n",
    "## Try **pyKNEEr** on Binder\n",
    "- *Example 1*: <a href=\"https://mybinder.org/v2/gh/sbonaretti/2019_QMSKI_Transparent_Research_WS/master?filepath=pykneer_example%2Fpykneer_example.ipynb\" target=\"_blank\">\n",
    "   <img src=\"https://mybinder.org/badge_logo.svg\"></a>\n",
    "- *Example 2*: <a href=\"https://mybinder.org/v2/gh/sbonaretti/2019_QMSKI_Transparent_Research_WS/master?filepath=pykneer_example_2%2Fpykneer_example_2.ipynb\" target=\"_blank\">\n",
    "   <img src=\"https://mybinder.org/badge_logo.svg\"></a>"
   ]
  },
  {
   "cell_type": "markdown",
   "metadata": {},
   "source": [
    "---\n",
    "## More links about **pyKNEEr** \n",
    "\n",
    "<link rel=\"stylesheet\" href=\"https://cdnjs.cloudflare.com/ajax/libs/font-awesome/4.7.0/css/font-awesome.min.css\"> Code: <a href=\"https://github.com/sbonaretti/pyKNEEr\" target=\"_blank\"><i class=\"fa fa-github\" style=\"font-size:28px;\"></i></a>\n",
    "&nbsp; &nbsp; &nbsp;\n",
    "Paper: <a href=\"https://doi.org/10.1371/journal.pone.0226501\" target=\"_blank\"><i class=\"fa fa-book\" style=\"font-size:28px;\"></i></a>\n",
    "&nbsp; &nbsp; &nbsp;\n",
    "License: <a rel=\"license\" href=\"http://creativecommons.org/licenses/by-nc-sa/4.0/\"><img alt=\"Creative Commons License\" style=\"border-width:0\" src=\"https://i.creativecommons.org/l/by-nc-sa/4.0/88x31.png\" /></a>\n",
    "&nbsp; &nbsp; &nbsp;\n",
    "Developer: <a href=\"https://sbonaretti.github.io\" target=\"_blank\">Serena Bonaretti</a>  \n",
    "\n",
    "\n"
   ]
  },
  {
   "cell_type": "markdown",
   "metadata": {},
   "source": [
    "{ref}`How to cite pyKNEEr <citation>` "
   ]
  },
  {
   "cell_type": "code",
   "execution_count": null,
   "metadata": {},
   "outputs": [],
   "source": []
  }
 ],
 "metadata": {
  "kernelspec": {
   "display_name": "Python 3",
   "language": "python",
   "name": "python3"
  },
  "language_info": {
   "codemirror_mode": {
    "name": "ipython",
    "version": 3
   },
   "file_extension": ".py",
   "mimetype": "text/x-python",
   "name": "python",
   "nbconvert_exporter": "python",
   "pygments_lexer": "ipython3",
   "version": "3.7.6"
  },
  "widgets": {
   "application/vnd.jupyter.widget-state+json": {
    "state": {},
    "version_major": 2,
    "version_minor": 0
   }
  }
 },
 "nbformat": 4,
 "nbformat_minor": 4
}

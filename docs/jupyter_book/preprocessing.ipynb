{
 "cells": [
  {
   "cell_type": "markdown",
   "metadata": {},
   "source": [
    "# Preprocessing"
   ]
  },
  {
   "cell_type": "markdown",
   "metadata": {},
   "source": [
    "Preprocessing is fundamental to provide standardized high quality images to the segmentation algorithm, and thus obtain successful segmentation.\n",
    "\n",
    "In *pyKNEEr* preprocessing acts on:\n",
    "\n",
    "- **Spatial image characteristics**: Images are transformed to the same orientation (RAI, i.e. right, anterior, posterior), knee laterality (left), and origin (0,0,0)\n",
    "- **Image intensities**: In all images, the homogeneous magnetic field is corrected, intensities are rescaled to the fix range [0,100], and cartilage contours are enhanced [{ref}`1<Shan>`]\n"
   ]
  },
  {
   "cell_type": "markdown",
   "metadata": {},
   "source": [
    "```{note}\n",
    "- Standardization of **spatial characteristics** is recommended for **all** images  \n",
    "- Standardization of **image intensities** is recommended only for **images that are going to be segmented**\n",
    "```\n"
   ]
  },
  {
   "cell_type": "markdown",
   "metadata": {},
   "source": [
    "---\n",
    "## Input: Image folder list"
   ]
  },
  {
   "cell_type": "markdown",
   "metadata": {},
   "source": [
    "For the demo images, the input file is ``image_list_preprocessing.txt``, which contains:"
   ]
  },
  {
   "cell_type": "markdown",
   "metadata": {},
   "source": [
    "    [1] ./original/\n",
    "    [2] 01/DESS/01\n",
    "    [3] right\n",
    "    [4] 01/DESS/02\n",
    "    [5] right\n",
    "    [6] 01/cubeQuant/01\n",
    "    [7] right\n",
    "    [8] 01/cubeQuant/02\n",
    "    [9] right\n",
    "    [10] 01/cubeQuant/03\n",
    "    [11] right\n",
    "    [12] 01/cubeQuant/04\n",
    "    [13] right"
   ]
  },
  {
   "cell_type": "markdown",
   "metadata": {},
   "source": [
    "where:\n",
    "\n",
    "- Line 1: Path of the folder ``original``, containing the image dicom folders  \n",
    "- Even lines from 2 to 12: Folder names of the dicom stacks to preprocess  \n",
    "- Odd lines from 3 to 13: Knee laterality  \n"
   ]
  },
  {
   "cell_type": "markdown",
   "metadata": {},
   "source": [
    "```{tip}  \n",
    "When using **your own data**:  \n",
    "    - Create a folder ``original`` and add your dicom folders  \n",
    "    - Customize ``image_list_preprocessing.txt`` with the paths of your own dicom folders  \n",
    "    - Specify knee laterality using *pyKNEEr* {ref}`coordinate system <faqLaterality>`  \n",
    "    - Tip: For images that are not directly involved in intersubject segmentation, you can run a separate notebook where you can set ``intensity_standardization = 0`` to save computational time\n",
    "```"
   ]
  },
  {
   "cell_type": "markdown",
   "metadata": {},
   "source": [
    "---  \n",
    "## Executing `preprocessing.ipynb`"
   ]
  },
  {
   "cell_type": "markdown",
   "metadata": {},
   "source": [
    "To preprocess data:\n",
    "\n",
    "- {ref}`Launch <launch_jup>` Jupyter notebook\n",
    "- In *File Browser*, navigate to ``preprocessing.ipynb``, open it, and:\n",
    "\n",
    "  - Customize the input variables:\n",
    "\n",
    "    - ``n_of_cores`` ({ref}`How do I choose the number of cores? <cores>`)\n",
    "    - ``intensity_standardization`` (0 for only spatial preprocessing, 1 for spatial and intensity preprocessing)\n",
    "  - Follow the instructions in the notebook\n",
    "\n",
    "- {ref}`Save <save_jup>` your notebook at the end of the process\n"
   ]
  },
  {
   "cell_type": "markdown",
   "metadata": {},
   "source": [
    "---  \n",
    "Output: Preprocessed images\n",
    "    \n",
    "The preprocessed images are in the folder ``./preprocessed``. For each dicom folder in the ``original`` folder, the outputs are:\n",
    "\n",
    "- ``*_orig.mha`` (e.g. ``01_DESS_01_orig.mha``): Images with the same intensities as the volume in the original dicom folder, but different orientation, knee laterality (if right), and image origin. These images can be used to compute relaxation maps\n",
    "- ``*_prep.mha`` (e.g. ``01_DESS_01_orig.mha``): Images with the same spacial characteristics as ``*_orig.mha`` but different intensities, because the constant magnetic field was corrected, the intensities were rescaled to a fix range, and the cartilage contours were enhanced. These images can be used to segment femoral knee cartilage\n",
    "- ``*_orig.txt`` (e.g. ``01_DESS_01_orig.txt``): Text files containing the header of the ``.dcm`` files. They can be used to extract acquisition information such as echo time, flip angle, etc.\n",
    "\n"
   ]
  },
  {
   "cell_type": "markdown",
   "metadata": {},
   "source": [
    "```{note}\n",
    "Both ``*_orig.mha`` and ``*_prep.mha`` are **anonymized** images, while ``*_orig.txt`` contains all the information of the dicom header (including subject name, etc.) if the dicom was not anonymized\n",
    "```"
   ]
  },
  {
   "cell_type": "markdown",
   "metadata": {},
   "source": [
    "--- \n",
    "## Visualization: Original and preprocessed images\n",
    "\n",
    "For a qualitative check, for each subject you can see a **2D** slice of ``*_orig.mha`` and ``*_prep.mha``, similarly to this one:\n",
    "\n",
    "![](images/preprocessing.png)\n",
    "  \n",
    "\n",
    "For images that were only spatially standardized, you will see only one 2D slice of ``*_orig.mha``.\n",
    "\n",
    "For **3D** visualization, consider using a medical image software such as {ref}`ITK-SNAP <itksnap>`, which allows {ref}`comparing images <itksnapCompare>` in the same coordinate system\n"
   ]
  },
  {
   "cell_type": "markdown",
   "metadata": {},
   "source": [
    "---\n",
    "## References\n",
    "(Shan)=\n",
    "[1] Shan L., Zach C., Charles C., Niethammer M. <a href=\"https://www.ncbi.nlm.nih.gov/pubmed/25128683\" target=\"_blank\"><i>Automatic Atlas-Based Three-Label Cartilage Segmentation from MR Knee Images.</i></a> Med Image Anal. Oct;18(7):1233-46. 2014.\n"
   ]
  }
 ],
 "metadata": {
  "kernelspec": {
   "display_name": "Python 3",
   "language": "python",
   "name": "python3"
  },
  "language_info": {
   "codemirror_mode": {
    "name": "ipython",
    "version": 3
   },
   "file_extension": ".py",
   "mimetype": "text/x-python",
   "name": "python",
   "nbconvert_exporter": "python",
   "pygments_lexer": "ipython3",
   "version": "3.7.6"
  },
  "widgets": {
   "application/vnd.jupyter.widget-state+json": {
    "state": {},
    "version_major": 2,
    "version_minor": 0
   }
  }
 },
 "nbformat": 4,
 "nbformat_minor": 4
}

{
 "cells": [
  {
   "cell_type": "markdown",
   "metadata": {},
   "source": [
    "(introduction)=\n",
    "# Introduction"
   ]
  },
  {
   "cell_type": "markdown",
   "metadata": {},
   "source": [
    "*pyKNEEr* is an image analysis workflow for **open** and **reproducible** research on femoral knee cartilage  \n",
    "\n",
    "Characteristics of *pyKNEEr* are exensively covered in {ref}`our paper<citation>`. Find below a concise summary.\n",
    "\n",
    "\n",
    "## Workflow\n",
    "\n",
    "*pyKNEEr* workflow is composed of three **modules**:\n",
    "1. **Preprocessing** to homogenize spatial characteristics and enhance intensities\n",
    "2. **Segmentation** of femoral knee cartilage using an atlas-based method\n",
    "3. **Analysis** of cartilage morphometry (thickness and volume) and relaxometry (fitting and EPG modeling)\n",
    "\n",
    "\n",
    "\n",
    "## Code\n",
    "\n",
    "*pyKNEEr*:\n",
    "- Uses <a href=\"http://jupyter.org\" target=\"_blank\">Jupyter notebook</a> as a user-interface. If you are not familiar with Jupyter notebook, find a quick introduction on <a href=\"https://www.youtube.com/playlist?list=PLj8QFvBykB7fGEH274TlqhToqGd_Qxt1H\" target=\"_blank\">YouTube</a>  and basic commands <a href=\"./faq.html\">here</a> \n",
    "- Is written in <a href=\"https://www.python.org/\" target=\"_blank\">python</a> with <a href=\"http://www.simpleitk.org\" target=\"_blank\">SimpleITK</a> to process images\n",
    "- Calls <a href=\"http://elastix.isi.uu.nl\" target=\"_blank\">elastix</a>, a toolbox for image registration used for atlas-based segmentation\n",
    "\n",
    " \n",
    "## Jupyter Notebooks\n",
    "\n",
    "Jupyter notebooks are the user-interface of *pyKNEEr*. Once run, you can attached them directly to your paper for computational reproducibility of the results.\n",
    "\n",
    "For each module of *pyKNEEr* there are several Jupyter notebooks (``*.ipynb``), independent from each other:\n",
    "\n",
    "![](images/moduleNotebooks.png)\n",
    "\n",
    "\n",
    "All notebooks have a similar structure:\n",
    "\n",
    "![](images/notebookStructure.png)\n",
    "\n",
    "\n",
    " \n",
    "## Data structure\n",
    "\n",
    "*pyKNEEr* requires data folders to be structured as follows:\n",
    "\n",
    "(folderStructure)=\n",
    "\n",
    "![](images/folderStructure.png)\n",
    "\n",
    "Where: \n",
    "- **reference**: contains the reference (or target) image for the atlas-based segmentation\n",
    "- **original**: contains dicom folders of the images to analyze\n",
    "- **preprocessed**: contains images after preprocessing\n",
    "- **registered**: contains by-products of registration and it can be deleted after computations\n",
    "- **segmented**: contains segmentation masks\n",
    "- **morphology**: contains cartilage surfaces, thickness, and volume\n",
    "- **relaxometry**: contains masked relaxometry maps\n",
    "\n",
    "\n",
    "\n",
    "## Data file formats\n",
    "\n",
    "Inputs and output files are in open formats:\n",
    "\n",
    "- **dicom (.dcm)**: Format of original images to be processed\n",
    "- **metafile (.mha)**: Format of images throughout the workflow\n",
    "- **text (.txt)**: Format of image list inputs and morphology outputs\n",
    "- **tabular (.csv)**: Format of output descriptive statistics in morphology and relaxometry analysis\n"
   ]
  }
 ],
 "metadata": {
  "kernelspec": {
   "display_name": "Python 3",
   "language": "python",
   "name": "python3"
  },
  "language_info": {
   "codemirror_mode": {
    "name": "ipython",
    "version": 3
   },
   "file_extension": ".py",
   "mimetype": "text/x-python",
   "name": "python",
   "nbconvert_exporter": "python",
   "pygments_lexer": "ipython3",
   "version": "3.7.6"
  },
  "widgets": {
   "application/vnd.jupyter.widget-state+json": {
    "state": {},
    "version_major": 2,
    "version_minor": 0
   }
  }
 },
 "nbformat": 4,
 "nbformat_minor": 4
}

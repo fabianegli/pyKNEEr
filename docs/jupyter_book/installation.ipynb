{
 "cells": [
  {
   "cell_type": "markdown",
   "metadata": {},
   "source": [
    "# Installation"
   ]
  },
  {
   "cell_type": "markdown",
   "metadata": {},
   "source": [
    "An overview of <i>pyKNEEr</i>, its installation, and its demo are presented in a <a href=\"https://www.youtube.com/watch?v=7WPf5KFtYi8\" target=\"_blank\">youtube video</a>, which we recommend watching as a comprehensive introduction.\n",
    "  The current and following pages provide more details."
   ]
  },
  {
   "cell_type": "markdown",
   "metadata": {},
   "source": [
    "```{note}\n",
    "The commands in this documentation are for Mac OS. If you work on Windows:\n",
    "\n",
    "   - Substitute `/` with `\\`\n",
    "   - Use the python {ref}`terminal <terminal>` provided in the Anaconda distribution\n",
    "\n",
    "\n",
    "\n",
    "```"
   ]
  },
  {
   "cell_type": "markdown",
   "metadata": {},
   "source": [
    "--- \n",
    "## python\n",
    "\n",
    "We recommend to install python through Anaconda, a platform providing a complete distribution\n",
    "-  Download the latest release of \n",
    "<a href=\"https://www.anaconda.com/products/individual\" target=\"_blank\">Anaconda</a> for your operating system \n",
    "-  Install Anaconda as you would do for any software (see the <a href=\"https://docs.anaconda.com/anaconda/install/\" target=\"_blank\">official documentation</a>)\n",
    "\n",
    "```{important}\n",
    "Make sure that you are using python 3\n",
    "```\n",
    "\n"
   ]
  },
  {
   "cell_type": "markdown",
   "metadata": {},
   "source": [
    "--- \n",
    "## pyKNEEr\n",
    "\n",
    "Go to {ref}`terminal <terminal>`, copy/paste the following line and press `enter`:\n",
    "\n",
    "      pip install pykneer\n",
    "\n",
    "The installation contains *elastix v4.8* for atlas-based segmentation. If you work on a Windows or a Linux computer,\n",
    "you might need to {ref}`set the environment variables for elastix <elastix>`"
   ]
  },
  {
   "cell_type": "markdown",
   "metadata": {},
   "source": [
    "```{note} \n",
    "We recommend to install *pyKNEEr* in a python {ref}`virtual environment <virtualenv_what>`, although it is not necessary\n",
    "```"
   ]
  },
  {
   "cell_type": "markdown",
   "metadata": {},
   "source": [
    "(demo)=\n",
    "## Demo\n",
    "\n",
    "To become familiar with *pyKNEEr*, we provide a demo that you can replicate following the step-by-step instructions in the following pages\n",
    "\n",
    "- Download the latest version of the demo images <a href=\"https://www.doi.org/10.5281/zenodo.3262307\" target=\"_blank\">here</a> (2.1 GB)\n",
    "\n",
    "  ```{important} \n",
    "  Make sure that all the folder names that constitute the path to the demo images have **no spaces**.  \n",
    "  E.g. `/home/learning_pykneer/demo/` and **not** `/home/learning pykneer/demo/`\n",
    "  ```\n",
    "- Unzip the file and open it. It contains two folders and some files:  \n",
    "  - `input`: It is the basic folder to work with *pyKNEEr*:\n",
    "    \n",
    "    ![](images/demoFolders.png)\n",
    "\n",
    "    - The folder `original` contains images of subjects `01`, which contains:  \n",
    "      - `DESS` images to get familiar with atlas-based segmentation and $T_2$ mapping\n",
    "      - `cubeQuant` images to get familiar with multimodal segmentation and $T_{1 \\rho}$ mapping\n",
    "\n",
    "      Both acquisitions will be used to get familiar with preprocessing and morphology analysis\n",
    "\n",
    "    - The folder `reference` contains the folder `newsubject`, which contains:\n",
    "      - ``reference.mha``: Reference image for the atlas-based segmentation\n",
    "      - ``reference_f.mha``: Femur mask of the reference image\n",
    "      - ``reference_fc.mha``: Femoral cartilage mask of the reference image\n",
    "\n",
    "      ```{note}\n",
    "      You can use this reference image and its masks also when segmenting your **own** data\n",
    "      ```\n",
    "    - Input files (`.txt`) to run *pyKNEEr* workflow and a subset of Jupyter notebooks (`.ipynb`). These files are explained in the next pages\n",
    "\n",
    "      ![](images/demoNotebooks.png)\n",
    "      \n",
    "    ```{important}\n",
    "    In the following instructions we will assume that `input` is our working directory\n",
    "    ```\n",
    "    \n",
    "  - `output`: It contains the outputs of the demo, so you can compare your findings with ours"
   ]
  }
 ],
 "metadata": {
  "kernelspec": {
   "display_name": "Python 3",
   "language": "python",
   "name": "python3"
  },
  "language_info": {
   "codemirror_mode": {
    "name": "ipython",
    "version": 3
   },
   "file_extension": ".py",
   "mimetype": "text/x-python",
   "name": "python",
   "nbconvert_exporter": "python",
   "pygments_lexer": "ipython3",
   "version": "3.7.6"
  },
  "widgets": {
   "application/vnd.jupyter.widget-state+json": {
    "state": {},
    "version_major": 2,
    "version_minor": 0
   }
  }
 },
 "nbformat": 4,
 "nbformat_minor": 4
}
